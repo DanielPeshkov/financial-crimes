{
 "cells": [
  {
   "cell_type": "code",
   "execution_count": 1,
   "metadata": {},
   "outputs": [],
   "source": [
    "import re"
   ]
  },
  {
   "cell_type": "code",
   "execution_count": 2,
   "metadata": {},
   "outputs": [],
   "source": [
    "with open('data/post.sql', 'r') as file:\n",
    "    f = file.read()"
   ]
  },
  {
   "cell_type": "code",
   "execution_count": 71,
   "metadata": {},
   "outputs": [],
   "source": [
    "def match(t):\n",
    "    if t == 'int' or t == 'serial':\n",
    "        return 'number'\n",
    "    if t == 'char' or t == 'varchar':\n",
    "        return 'string'\n",
    "    if t == 'date' or t == 'timestamp':\n",
    "        return 'Date'\n",
    "    if t == 'boolean':\n",
    "        return 'boolean'\n",
    "    return ValueError('Unknown type')"
   ]
  },
  {
   "cell_type": "code",
   "execution_count": 115,
   "metadata": {},
   "outputs": [],
   "source": [
    "entity = {}\n",
    "for m in re.findall(r'CREATE TABLE .+ [(]\\n[\\s\\w,\\-()?]+\\);', f):\n",
    "    data = \"\"\"import { IsNotEmpty, IsNumber, IsString, IsDate, IsBoolean } from \"class-validator\";\n",
    "import { Column, Entity, PrimaryGeneratedColumn } from \"typeorm\";\n",
    "\n",
    "\"\"\"\n",
    "    table = m[13:-3].split(' (\\n')\n",
    "    name = table[0].title().replace('_', '').replace('report', 'Report')\n",
    "    columns = table[1].replace(',', '').replace('    ', '').split('\\n')\n",
    "    data += f\"@Entity()\\nexport class {name} \" + '{\\n'\n",
    "    data += f\"\"\"\\n    @PrimaryGeneratedColumn()\n",
    "    @IsNumber()\n",
    "    @IsNotEmpty()\n",
    "    id: number;\\n\"\"\"\n",
    "    for c in columns[1:]:\n",
    "        n = c.split(' ')[0].lower()\n",
    "        t = match(c.split(' ')[1].split('(')[0])\n",
    "        data += f\"\\n    @Column()\\n    @Is{t.title()}()\\n\"\n",
    "        data += f\"    {n}: {t};\\n\"\n",
    "    data += '}'\n",
    "    entity[name] = data"
   ]
  },
  {
   "cell_type": "code",
   "execution_count": 130,
   "metadata": {},
   "outputs": [
    {
     "name": "stdout",
     "output_type": "stream",
     "text": [
      "import { IsNotEmpty, IsNumber, IsString, IsDate, IsBoolean } from \"class-validator\";\n",
      "import { Column, Entity, PrimaryGeneratedColumn } from \"typeorm\";\n",
      "\n",
      "@Entity()\n",
      "export class InstitutionIndividual {\n",
      "\n",
      "    @PrimaryGeneratedColumn()\n",
      "    @IsNumber()\n",
      "    @IsNotEmpty()\n",
      "    id: number;\n",
      "\n",
      "    @Column()\n",
      "    @IsNumber()\n",
      "    reportid: number;\n",
      "\n",
      "    @Column()\n",
      "    @IsNumber()\n",
      "    individualid: number;\n",
      "}\n"
     ]
    }
   ],
   "source": [
    "print(entity['InstitutionIndividual'])"
   ]
  },
  {
   "cell_type": "code",
   "execution_count": 124,
   "metadata": {},
   "outputs": [
    {
     "name": "stdout",
     "output_type": "stream",
     "text": [
      "Users\n",
      "Contact\n",
      "Address\n",
      "Individual\n",
      "Business\n",
      "OtherReport\n",
      "OtherIndividual\n",
      "OtherBusiness\n",
      "LaunderingReport\n",
      "LaunderingIndividual\n",
      "LaunderingBusiness\n",
      "InstitutionReport\n",
      "InstitutionIndividual\n",
      "InstitutionBusiness\n"
     ]
    }
   ],
   "source": [
    "_ = [print(i) for i in entity.keys()]"
   ]
  },
  {
   "cell_type": "code",
   "execution_count": null,
   "metadata": {},
   "outputs": [],
   "source": []
  }
 ],
 "metadata": {
  "kernelspec": {
   "display_name": "Python 3",
   "language": "python",
   "name": "python3"
  },
  "language_info": {
   "codemirror_mode": {
    "name": "ipython",
    "version": 3
   },
   "file_extension": ".py",
   "mimetype": "text/x-python",
   "name": "python",
   "nbconvert_exporter": "python",
   "pygments_lexer": "ipython3",
   "version": "3.10.9"
  }
 },
 "nbformat": 4,
 "nbformat_minor": 2
}
